{
 "cells": [
  {
   "cell_type": "code",
   "execution_count": 4,
   "metadata": {},
   "outputs": [],
   "source": [
    "# imports\n",
    "import osmnx as ox\n",
    "import nest_asyncio\n",
    "nest_asyncio.apply()\n",
    "\n",
    "from streetscape import GridBuilder, ObsBuilder, GSVRetriever"
   ]
  },
  {
   "cell_type": "markdown",
   "metadata": {},
   "source": [
    "## Street Dataset"
   ]
  },
  {
   "cell_type": "code",
   "execution_count": 5,
   "metadata": {},
   "outputs": [],
   "source": [
    "osm_street = ox.graph_from_place('Ann Arbor, MI')"
   ]
  },
  {
   "cell_type": "code",
   "execution_count": 6,
   "metadata": {},
   "outputs": [],
   "source": [
    "g = GridBuilder()\n",
    "streets = g.graph2gdf(osm_street)"
   ]
  },
  {
   "cell_type": "code",
   "execution_count": 7,
   "metadata": {},
   "outputs": [
    {
     "name": "stdout",
     "output_type": "stream",
     "text": [
      "57269\n"
     ]
    },
    {
     "data": {
      "text/html": [
       "<div>\n",
       "<style scoped>\n",
       "    .dataframe tbody tr th:only-of-type {\n",
       "        vertical-align: middle;\n",
       "    }\n",
       "\n",
       "    .dataframe tbody tr th {\n",
       "        vertical-align: top;\n",
       "    }\n",
       "\n",
       "    .dataframe thead th {\n",
       "        text-align: right;\n",
       "    }\n",
       "</style>\n",
       "<table border=\"1\" class=\"dataframe\">\n",
       "  <thead>\n",
       "    <tr style=\"text-align: right;\">\n",
       "      <th></th>\n",
       "      <th>osmid</th>\n",
       "      <th>name</th>\n",
       "      <th>length</th>\n",
       "      <th>geometry</th>\n",
       "    </tr>\n",
       "  </thead>\n",
       "  <tbody>\n",
       "    <tr>\n",
       "      <th>0</th>\n",
       "      <td>8722810</td>\n",
       "      <td>Walter Drive</td>\n",
       "      <td>10.036</td>\n",
       "      <td>LINESTRING (-83.7804416 42.288292, -83.7805635...</td>\n",
       "    </tr>\n",
       "    <tr>\n",
       "      <th>1</th>\n",
       "      <td>444795290</td>\n",
       "      <td>NaN</td>\n",
       "      <td>6.683</td>\n",
       "      <td>LINESTRING (-83.7804416 42.288292, -83.7804411...</td>\n",
       "    </tr>\n",
       "    <tr>\n",
       "      <th>2</th>\n",
       "      <td>444795290</td>\n",
       "      <td>NaN</td>\n",
       "      <td>9.641</td>\n",
       "      <td>LINESTRING (-83.7804416 42.288292, -83.7804424...</td>\n",
       "    </tr>\n",
       "    <tr>\n",
       "      <th>3</th>\n",
       "      <td>8722810</td>\n",
       "      <td>Walter Drive</td>\n",
       "      <td>110.892</td>\n",
       "      <td>LINESTRING (-83.7804416 42.288292, -83.7803952...</td>\n",
       "    </tr>\n",
       "    <tr>\n",
       "      <th>4</th>\n",
       "      <td>42390861</td>\n",
       "      <td>NaN</td>\n",
       "      <td>25.832</td>\n",
       "      <td>LINESTRING (-83.756935 42.3090174, -83.7569972...</td>\n",
       "    </tr>\n",
       "  </tbody>\n",
       "</table>\n",
       "</div>"
      ],
      "text/plain": [
       "       osmid          name   length  \\\n",
       "0    8722810  Walter Drive   10.036   \n",
       "1  444795290           NaN    6.683   \n",
       "2  444795290           NaN    9.641   \n",
       "3    8722810  Walter Drive  110.892   \n",
       "4   42390861           NaN   25.832   \n",
       "\n",
       "                                            geometry  \n",
       "0  LINESTRING (-83.7804416 42.288292, -83.7805635...  \n",
       "1  LINESTRING (-83.7804416 42.288292, -83.7804411...  \n",
       "2  LINESTRING (-83.7804416 42.288292, -83.7804424...  \n",
       "3  LINESTRING (-83.7804416 42.288292, -83.7803952...  \n",
       "4  LINESTRING (-83.756935 42.3090174, -83.7569972...  "
      ]
     },
     "execution_count": 7,
     "metadata": {},
     "output_type": "execute_result"
    }
   ],
   "source": [
    "print(len(streets))\n",
    "streets.head()"
   ]
  },
  {
   "cell_type": "markdown",
   "metadata": {},
   "source": [
    "## Create candidiate grid points\n",
    "create a 1D grid along with street segments"
   ]
  },
  {
   "cell_type": "code",
   "execution_count": 5,
   "metadata": {},
   "outputs": [
    {
     "name": "stdout",
     "output_type": "stream",
     "text": [
      "53037 grid points created\n"
     ]
    }
   ],
   "source": [
    "grids = g.create(streets)"
   ]
  },
  {
   "cell_type": "code",
   "execution_count": 6,
   "metadata": {},
   "outputs": [
    {
     "data": {
      "text/html": [
       "<div>\n",
       "<style scoped>\n",
       "    .dataframe tbody tr th:only-of-type {\n",
       "        vertical-align: middle;\n",
       "    }\n",
       "\n",
       "    .dataframe tbody tr th {\n",
       "        vertical-align: top;\n",
       "    }\n",
       "\n",
       "    .dataframe thead th {\n",
       "        text-align: right;\n",
       "    }\n",
       "</style>\n",
       "<table border=\"1\" class=\"dataframe\">\n",
       "  <thead>\n",
       "    <tr style=\"text-align: right;\">\n",
       "      <th></th>\n",
       "      <th>geometry</th>\n",
       "      <th>point_id</th>\n",
       "      <th>seg_end</th>\n",
       "      <th>segment_id</th>\n",
       "      <th>metadata_url</th>\n",
       "    </tr>\n",
       "  </thead>\n",
       "  <tbody>\n",
       "    <tr>\n",
       "      <th>0</th>\n",
       "      <td>POINT (-0.07336670000000001 50.9952681)</td>\n",
       "      <td>0</td>\n",
       "      <td>1</td>\n",
       "      <td>5199427</td>\n",
       "      <td>https://maps.googleapis.com/maps/api/streetvie...</td>\n",
       "    </tr>\n",
       "    <tr>\n",
       "      <th>1</th>\n",
       "      <td>POINT (-0.07338906852798188 50.99528232036349)</td>\n",
       "      <td>1</td>\n",
       "      <td>0</td>\n",
       "      <td>5199427</td>\n",
       "      <td>https://maps.googleapis.com/maps/api/streetvie...</td>\n",
       "    </tr>\n",
       "    <tr>\n",
       "      <th>2</th>\n",
       "      <td>POINT (-0.07349814150221824 50.99535106056079)</td>\n",
       "      <td>2</td>\n",
       "      <td>0</td>\n",
       "      <td>5199427</td>\n",
       "      <td>https://maps.googleapis.com/maps/api/streetvie...</td>\n",
       "    </tr>\n",
       "    <tr>\n",
       "      <th>3</th>\n",
       "      <td>POINT (-0.07361968674006909 50.99539422770838)</td>\n",
       "      <td>3</td>\n",
       "      <td>0</td>\n",
       "      <td>5199427</td>\n",
       "      <td>https://maps.googleapis.com/maps/api/streetvie...</td>\n",
       "    </tr>\n",
       "    <tr>\n",
       "      <th>4</th>\n",
       "      <td>POINT (-0.07374123197791994 50.99543739485598)</td>\n",
       "      <td>4</td>\n",
       "      <td>0</td>\n",
       "      <td>5199427</td>\n",
       "      <td>https://maps.googleapis.com/maps/api/streetvie...</td>\n",
       "    </tr>\n",
       "  </tbody>\n",
       "</table>\n",
       "</div>"
      ],
      "text/plain": [
       "                                         geometry  point_id  seg_end  \\\n",
       "0         POINT (-0.07336670000000001 50.9952681)         0        1   \n",
       "1  POINT (-0.07338906852798188 50.99528232036349)         1        0   \n",
       "2  POINT (-0.07349814150221824 50.99535106056079)         2        0   \n",
       "3  POINT (-0.07361968674006909 50.99539422770838)         3        0   \n",
       "4  POINT (-0.07374123197791994 50.99543739485598)         4        0   \n",
       "\n",
       "  segment_id                                       metadata_url  \n",
       "0    5199427  https://maps.googleapis.com/maps/api/streetvie...  \n",
       "1    5199427  https://maps.googleapis.com/maps/api/streetvie...  \n",
       "2    5199427  https://maps.googleapis.com/maps/api/streetvie...  \n",
       "3    5199427  https://maps.googleapis.com/maps/api/streetvie...  \n",
       "4    5199427  https://maps.googleapis.com/maps/api/streetvie...  "
      ]
     },
     "execution_count": 6,
     "metadata": {},
     "output_type": "execute_result"
    }
   ],
   "source": [
    "grids.head()"
   ]
  },
  {
   "cell_type": "markdown",
   "metadata": {},
   "source": [
    "## Find GSV points\n",
    "From each grid candidiate point, we will send a query asking the location of gsv points."
   ]
  },
  {
   "cell_type": "code",
   "execution_count": 7,
   "metadata": {},
   "outputs": [
    {
     "name": "stdout",
     "output_type": "stream",
     "text": [
      "6 observation points retrieved.\n",
      "CPU times: user 63.5 ms, sys: 7.71 ms, total: 71.2 ms\n",
      "Wall time: 406 ms\n"
     ]
    }
   ],
   "source": [
    "%%time\n",
    "# only first 10 grids\n",
    "gsv_gdf = ObsBuilder().create(grids.head(10))"
   ]
  },
  {
   "cell_type": "code",
   "execution_count": 8,
   "metadata": {},
   "outputs": [
    {
     "data": {
      "text/html": [
       "<div>\n",
       "<style scoped>\n",
       "    .dataframe tbody tr th:only-of-type {\n",
       "        vertical-align: middle;\n",
       "    }\n",
       "\n",
       "    .dataframe tbody tr th {\n",
       "        vertical-align: top;\n",
       "    }\n",
       "\n",
       "    .dataframe thead th {\n",
       "        text-align: right;\n",
       "    }\n",
       "</style>\n",
       "<table border=\"1\" class=\"dataframe\">\n",
       "  <thead>\n",
       "    <tr style=\"text-align: right;\">\n",
       "      <th></th>\n",
       "      <th>index</th>\n",
       "      <th>copyright</th>\n",
       "      <th>date</th>\n",
       "      <th>pano_id</th>\n",
       "      <th>geometry</th>\n",
       "    </tr>\n",
       "  </thead>\n",
       "  <tbody>\n",
       "    <tr>\n",
       "      <th>0</th>\n",
       "      <td>0</td>\n",
       "      <td>© Google</td>\n",
       "      <td>2017-06</td>\n",
       "      <td>7VbmzX28HsayLzftqCxUKg</td>\n",
       "      <td>POINT (-0.0733641 50.9952888)</td>\n",
       "    </tr>\n",
       "    <tr>\n",
       "      <th>1</th>\n",
       "      <td>2</td>\n",
       "      <td>© Google</td>\n",
       "      <td>2017-06</td>\n",
       "      <td>tCcpSq6Dh5-jwreEtLNy3w</td>\n",
       "      <td>POINT (-0.07350600352815902 50.99534625974742)</td>\n",
       "    </tr>\n",
       "    <tr>\n",
       "      <th>2</th>\n",
       "      <td>3</td>\n",
       "      <td>© Google</td>\n",
       "      <td>2017-06</td>\n",
       "      <td>Ag-jya4mCO2cFPNPd0VArA</td>\n",
       "      <td>POINT (-0.0736048 50.9953789)</td>\n",
       "    </tr>\n",
       "    <tr>\n",
       "      <th>3</th>\n",
       "      <td>4</td>\n",
       "      <td>© Google</td>\n",
       "      <td>2017-06</td>\n",
       "      <td>hBw7nyFYbNEmgqnP9a2bMQ</td>\n",
       "      <td>POINT (-0.07375464036488383 50.99542532553686)</td>\n",
       "    </tr>\n",
       "    <tr>\n",
       "      <th>4</th>\n",
       "      <td>5</td>\n",
       "      <td>© Google</td>\n",
       "      <td>2017-06</td>\n",
       "      <td>pYKClTXjyQXYrHGKUB87lA</td>\n",
       "      <td>POINT (-0.07388683471449316 50.99546628328553)</td>\n",
       "    </tr>\n",
       "  </tbody>\n",
       "</table>\n",
       "</div>"
      ],
      "text/plain": [
       "   index copyright     date                 pano_id  \\\n",
       "0      0  © Google  2017-06  7VbmzX28HsayLzftqCxUKg   \n",
       "1      2  © Google  2017-06  tCcpSq6Dh5-jwreEtLNy3w   \n",
       "2      3  © Google  2017-06  Ag-jya4mCO2cFPNPd0VArA   \n",
       "3      4  © Google  2017-06  hBw7nyFYbNEmgqnP9a2bMQ   \n",
       "4      5  © Google  2017-06  pYKClTXjyQXYrHGKUB87lA   \n",
       "\n",
       "                                         geometry  \n",
       "0                   POINT (-0.0733641 50.9952888)  \n",
       "1  POINT (-0.07350600352815902 50.99534625974742)  \n",
       "2                   POINT (-0.0736048 50.9953789)  \n",
       "3  POINT (-0.07375464036488383 50.99542532553686)  \n",
       "4  POINT (-0.07388683471449316 50.99546628328553)  "
      ]
     },
     "execution_count": 8,
     "metadata": {},
     "output_type": "execute_result"
    }
   ],
   "source": [
    "gsv_gdf.head()"
   ]
  },
  {
   "cell_type": "markdown",
   "metadata": {},
   "source": [
    "## Retrieve GSV images\n",
    "\n",
    "Although google's cbk API provides an option to download the whole panorama, \n",
    "it is not an officially released API. This means we are not sure utilizing the cbk API \n",
    "is within the terms of use. \n",
    "If you are interested in using cbk API, see robolyst [streetview package](https://github.com/robolyst/streetview)\n",
    "\n",
    "Here, we are going to use the official street view api even though it does not allow reconstruct the whole\n",
    "panorama. We are going to use piecewise streetviews from each point.\n",
    "\n",
    "The api format is:\n",
    "https://maps.googleapis.com/maps/api/streetview?pano={}&size={}x{}&heading={}&fov={}&key={}&source=outdoor"
   ]
  },
  {
   "cell_type": "code",
   "execution_count": 10,
   "metadata": {},
   "outputs": [
    {
     "name": "stdout",
     "output_type": "stream",
     "text": [
      "24\n"
     ]
    },
    {
     "data": {
      "text/html": [
       "<div>\n",
       "<style scoped>\n",
       "    .dataframe tbody tr th:only-of-type {\n",
       "        vertical-align: middle;\n",
       "    }\n",
       "\n",
       "    .dataframe tbody tr th {\n",
       "        vertical-align: top;\n",
       "    }\n",
       "\n",
       "    .dataframe thead th {\n",
       "        text-align: right;\n",
       "    }\n",
       "</style>\n",
       "<table border=\"1\" class=\"dataframe\">\n",
       "  <thead>\n",
       "    <tr style=\"text-align: right;\">\n",
       "      <th></th>\n",
       "      <th>gsv_name</th>\n",
       "      <th>gsv_url</th>\n",
       "      <th>pano_id</th>\n",
       "    </tr>\n",
       "  </thead>\n",
       "  <tbody>\n",
       "    <tr>\n",
       "      <th>0</th>\n",
       "      <td>image_0_0.jpg</td>\n",
       "      <td>https://maps.googleapis.com/maps/api/streetvie...</td>\n",
       "      <td>7VbmzX28HsayLzftqCxUKg</td>\n",
       "    </tr>\n",
       "    <tr>\n",
       "      <th>1</th>\n",
       "      <td>image_0_90.jpg</td>\n",
       "      <td>https://maps.googleapis.com/maps/api/streetvie...</td>\n",
       "      <td>7VbmzX28HsayLzftqCxUKg</td>\n",
       "    </tr>\n",
       "    <tr>\n",
       "      <th>2</th>\n",
       "      <td>image_0_180.jpg</td>\n",
       "      <td>https://maps.googleapis.com/maps/api/streetvie...</td>\n",
       "      <td>7VbmzX28HsayLzftqCxUKg</td>\n",
       "    </tr>\n",
       "    <tr>\n",
       "      <th>3</th>\n",
       "      <td>image_0_270.jpg</td>\n",
       "      <td>https://maps.googleapis.com/maps/api/streetvie...</td>\n",
       "      <td>7VbmzX28HsayLzftqCxUKg</td>\n",
       "    </tr>\n",
       "    <tr>\n",
       "      <th>4</th>\n",
       "      <td>image_2_0.jpg</td>\n",
       "      <td>https://maps.googleapis.com/maps/api/streetvie...</td>\n",
       "      <td>tCcpSq6Dh5-jwreEtLNy3w</td>\n",
       "    </tr>\n",
       "  </tbody>\n",
       "</table>\n",
       "</div>"
      ],
      "text/plain": [
       "          gsv_name                                            gsv_url  \\\n",
       "0    image_0_0.jpg  https://maps.googleapis.com/maps/api/streetvie...   \n",
       "1   image_0_90.jpg  https://maps.googleapis.com/maps/api/streetvie...   \n",
       "2  image_0_180.jpg  https://maps.googleapis.com/maps/api/streetvie...   \n",
       "3  image_0_270.jpg  https://maps.googleapis.com/maps/api/streetvie...   \n",
       "4    image_2_0.jpg  https://maps.googleapis.com/maps/api/streetvie...   \n",
       "\n",
       "                  pano_id  \n",
       "0  7VbmzX28HsayLzftqCxUKg  \n",
       "1  7VbmzX28HsayLzftqCxUKg  \n",
       "2  7VbmzX28HsayLzftqCxUKg  \n",
       "3  7VbmzX28HsayLzftqCxUKg  \n",
       "4  tCcpSq6Dh5-jwreEtLNy3w  "
      ]
     },
     "execution_count": 10,
     "metadata": {},
     "output_type": "execute_result"
    }
   ],
   "source": [
    "gsv_urls = GSVRetriever().create_urls(gsv_gdf, npics=4)\n",
    "print(len(gsv_urls))\n",
    "gsv_urls.head()"
   ]
  },
  {
   "cell_type": "code",
   "execution_count": 12,
   "metadata": {},
   "outputs": [],
   "source": [
    "GSVRetriever().retrieve_images(gsv_urls, \"images\")"
   ]
  }
 ],
 "metadata": {
  "kernelspec": {
   "display_name": "Python 3",
   "language": "python",
   "name": "python3"
  },
  "language_info": {
   "codemirror_mode": {
    "name": "ipython",
    "version": 3
   },
   "file_extension": ".py",
   "mimetype": "text/x-python",
   "name": "python",
   "nbconvert_exporter": "python",
   "pygments_lexer": "ipython3",
   "version": "3.6.4"
  }
 },
 "nbformat": 4,
 "nbformat_minor": 2
}
